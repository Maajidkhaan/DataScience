{
 "cells": [
  {
   "cell_type": "markdown",
   "metadata": {},
   "source": [
    "# QUIZ # 1\n",
    "## INSTRUCTION: Please rename this file by your_name\n",
    "### DO NOT DELETE OR ALTER ANYTHING IN THIS DOCUMENT, JUST WRITE YOUR SOLUTION CODE IN \"TYPE HERE\" SECTION ONLY"
   ]
  },
  {
   "cell_type": "code",
   "execution_count": 1,
   "metadata": {},
   "outputs": [
    {
     "data": {
      "text/plain": [
       "'Type here'"
      ]
     },
     "execution_count": 1,
     "metadata": {},
     "output_type": "execute_result"
    }
   ],
   "source": [
    "# What is your name:\n",
    "# Print your Name and Father Name, remove type here and add your solution code\n",
    "'''Type here'''"
   ]
  },
  {
   "cell_type": "code",
   "execution_count": 2,
   "metadata": {},
   "outputs": [
    {
     "data": {
      "text/plain": [
       "'Type here'"
      ]
     },
     "execution_count": 2,
     "metadata": {},
     "output_type": "execute_result"
    }
   ],
   "source": [
    "# Write a program to display the following three pieces of data: \n",
    "# the output should be like:\n",
    "# A-1 Sector E-5 Phase 7,\n",
    "# Institute of Management Sciences\n",
    "# Hayatabat Peshawar.\n",
    "'''Type here'''"
   ]
  },
  {
   "cell_type": "code",
   "execution_count": 3,
   "metadata": {},
   "outputs": [
    {
     "data": {
      "text/plain": [
       "'Type here'"
      ]
     },
     "execution_count": 3,
     "metadata": {},
     "output_type": "execute_result"
    }
   ],
   "source": [
    "# Write a program to get the user's first name. e.g., Adnan\n",
    "# the Get the user's last name. e.g., Amin\n",
    "# Print a greeting to the user. e.g., Hello Dear! Adnan Amin\n",
    "'''Type here'''\n"
   ]
  },
  {
   "cell_type": "code",
   "execution_count": null,
   "metadata": {},
   "outputs": [],
   "source": [
    "# Write a program to get the get the student's GPA e.g., 3.5\n",
    "# The user to enter that value at the keyboard, converts the value to a float, \n",
    "# and assigns it to the GPA variable:\n",
    "# Print a message to the user e.g., Your Obtained GPA is: 3.5\n",
    "'''Type here'''"
   ]
  },
  {
   "cell_type": "code",
   "execution_count": null,
   "metadata": {},
   "outputs": [],
   "source": [
    "# Write a program which output as\n",
    "# Get the input from user: e.g., What is your name? <user will enter his/her name at runtime>\n",
    "# Get the input from user: e.g., What is your age? <user will enter his/her age at runtime>\n",
    "# Get the input from user: e.g., What is your income? 148000.50\n",
    "# Print the following output: \n",
    "# Program output:\n",
    "'''\n",
    "Here is the data you entered:\n",
    "What is your name: Adnan Amin\n",
    "What is your Age: 35\n",
    "What is your income: 148000.50\n",
    "'''"
   ]
  },
  {
   "cell_type": "code",
   "execution_count": null,
   "metadata": {},
   "outputs": [],
   "source": [
    "# Fill with appropriate answer and do not change any other code\n",
    "addition='' # type operator symbol for addition inside ''\n",
    "subtraction='' # type operator symbol for subtraction inside ''\n",
    "multiplication='' # type operator symbol for multiplication inside ''\n",
    "division='' # type operator symbol for division inside ''\n",
    "integer_division='' # type operator symbol for integer division inside ''\n",
    "reminder=''  # type operator symbol for reminder inside ''\n",
    "exponent='' # type operator symbol for reminder inside ''\n",
    "print('Addition Operator:',addition)\n",
    "print('subtraction Operator:',subtraction)\n",
    "print('multiplication Operator:',multiplication)\n",
    "print('division Operator:',division)\n",
    "print('integer_division Operator:',integer_division)\n",
    "print('reminder Operator:',reminder)\n",
    "print('exponent Operator:',exponent)"
   ]
  },
  {
   "cell_type": "code",
   "execution_count": null,
   "metadata": {},
   "outputs": [],
   "source": [
    "# When i run this program so it should display the following: \n",
    "# Program's Output\n",
    "# Your pay is 3700.0\n",
    "\n",
    "# Assign a value to the salary variable.\n",
    "salary = 2500.0\n",
    "# Assign a value to the bonus variable.\n",
    "bonus = 1200.0\n",
    "# Write formula to calculate the total pay by adding salary\n",
    "# and bonus. Assign the result to a variable pay.\n",
    "'''write formula here '''\n",
    "\n",
    "# Display the pay.\n",
    "print('Your pay is', pay)"
   ]
  },
  {
   "cell_type": "code",
   "execution_count": null,
   "metadata": {},
   "outputs": [],
   "source": [
    "''' IMPORTANT HINTS\n",
    "If you are writing a program that works with a percentage, you have to make sure that\n",
    "the percentage’s decimal point is in the correct location before doing any math with the\n",
    "percentage. This is especially true when the user enters a percentage as input. Most users\n",
    "enter the number 50 to mean 50 percent, 20 to mean 20 percent, and so forth. Before you\n",
    "perform any calculations with such a percentage, you have to divide it by 100 to move its\n",
    "decimal point two places to the left.\n",
    "\n",
    "Let’s step through the process of writing a program that calculates a percentage. Suppose a\n",
    "retail business is planning to have a storewide sale where the prices of all items will be 20\n",
    "percent off. We have been asked to write a program to calculate the sale price of an item\n",
    "after the discount is subtracted. Here is the algorithm:\n",
    " 1. Get the original price of the item.\n",
    " 2. Calculate 20 percent of the original price. This is the amount of the discount.\n",
    " 3. Subtract the discount from the original price. This is the sale price.\n",
    " 4. Display the sale price.\n",
    "'''\n",
    "# In step 1 we get the original price of the item. We will prompt the user to enter this data on the keyboard.\n",
    "# get teh original price in variable original_price\n",
    "''' code here'''\n",
    "\n",
    "# In step 2, we calculate the amount of the discount. To do this we multiply the original price by 20 percent. \n",
    "# calculate 20 percent of the original price, this is the amoutn of discount and store it into variable discount.\n",
    "''' code here'''\n",
    "\n",
    "# In step 3, we subtract the discount from the original price. this is the sale price\n",
    "# store the sale price into a variable sale_price\n",
    "''' code here'''\n",
    "\n",
    "# Last, in step 4, we will use the following statement to display the sale price:\n",
    "''' code here '''\n",
    "\n",
    "# verify your out put: it should be like\n",
    "# Enter the item's original price: 100.00\n",
    "# The sale price is 80.0"
   ]
  },
  {
   "cell_type": "code",
   "execution_count": null,
   "metadata": {},
   "outputs": [],
   "source": [
    "# What operator we can place to generate the target output\n",
    "# DONOT CHANGE ANYTHING EXCEPT REPLACING OPERATOR STRINGY BY PROPER OPERATOR\n",
    "a= 5 + 2 OPERATOR 4    # replace OPERATOR string by proper operator that must generate the output 13\n",
    "b= 10 OPERATOR 2 − 3   # replace OPERATOR string by proper operator that must generate the output 2\n",
    "c= 8 + 12 OPERATOR 2 − 4  # replace OPERATOR string by proper operator that must generate the output 28\n",
    "d= 6 − 3 * 2 + 7 OPERATOR 1 # replace OPERATOR string by proper operator that must generate the output 6\n",
    "\n",
    "\n",
    "print ('A required output 13 is : ',a)\n",
    "print ('B required output 2 is : ',b)\n",
    "print ('C required output 28 is : ',c)\n",
    "print ('D required output 6 is : ',d)"
   ]
  },
  {
   "cell_type": "code",
   "execution_count": null,
   "metadata": {},
   "outputs": [],
   "source": [
    "'''\n",
    "Let’s step through the process of writing a program that calculates an average. Suppose you\n",
    "have taken three tests in your computer science class, and you want to write a program that\n",
    "will display the average of the test scores. Here is the algorithm:\n",
    " 1. Get the first test score.\n",
    " 2. Get the second test score.\n",
    " 3. Get the third test score.\n",
    " 4. Calculate the average by adding the three test scores and dividing the sum by 3.\n",
    " 5. Display the average.\n",
    "In steps 1, 2, and 3 we will prompt the user to enter the three test scores. We will store those\n",
    "test scores in the variables test1, test2, and test3. In step 4 we will calculate the average\n",
    "of the three test scores. We will use the following statement to perform the calculation and\n",
    "store the result in the average variable:\n",
    "'''\n",
    "# Step 1: get the first test score\n",
    "''' code here'''\n",
    "\n",
    "# Step 2: get the second test score\n",
    "''' code here'''\n",
    "\n",
    "# Step 3: get the third test score\n",
    "''' code here'''\n",
    "\n",
    "# Step 4: calculate the average of the three thest scores and store result into a variable average\n",
    "''' code here'''\n",
    "\n",
    "# Final Step: display the result e.g., \n",
    "# Test 1 score: 10     \n",
    "# Test 2  Score: 20    \n",
    "# Test 3  score: 30\n",
    "# The average is : 15"
   ]
  },
  {
   "cell_type": "code",
   "execution_count": null,
   "metadata": {},
   "outputs": [],
   "source": [
    "# PLEASE DONOT CHANGE ANYTHING EXCEPT writing the formula  by replace the ''' code here'''\n",
    "# Get a number of seconds from the user.\n",
    "total_seconds = float(input('Enter a number of seconds: '))\n",
    "\n",
    "# Get the number of hours.\n",
    "hours = ''' code here'''  # remove ''' code here''' and write formula to convert the total_seconds into hours. \n",
    "\n",
    "# Get the number of remaining minutes.\n",
    "minutes = ''' code here'''  # remove ''' code here''' and write formula to convert the hours into minutes\n",
    "\n",
    "# Get the number of remaining seconds.\n",
    "seconds = total_seconds % 60\n",
    "\n",
    "# Display the results.\n",
    "print('Here is the time in hours, minutes, and seconds:')\n",
    "print('Hours:', hours)\n",
    "print('Minutes:', minutes)\n",
    "print('Seconds:', seconds)"
   ]
  },
  {
   "cell_type": "code",
   "execution_count": null,
   "metadata": {},
   "outputs": [],
   "source": [
    "# Write program to take input for the a, b and c and apply this formula \n",
    "# x = (a + b)/c \n",
    "# Display the x\n",
    "# e.g., a= 10 ,  b=20   c= 30     x=1\n",
    "''' code here'''\n",
    "\n"
   ]
  },
  {
   "cell_type": "code",
   "execution_count": null,
   "metadata": {},
   "outputs": [],
   "source": [
    "'''\n",
    "Adnan Amin teaches a Data Mining subject & his students are required to take three tests. He wants\n",
    "to write a program that his students can use to calculate their average test score. He also\n",
    "wants the program to congratulate the student enthusiastically if the average is greater\n",
    "than 95. Here is the algorithm in pseudocode:\n",
    "1.Get the first test score\n",
    "2.Get the second test score\n",
    "3.Get the third test score\n",
    "4.Calculate the average\n",
    "5. Display the average\n",
    "6. If the average is greater than 95:\n",
    "Congratulate the user\n",
    "'''\n",
    "#The program should output as: if i enter the following values\n",
    "'''\n",
    "Enter the score for test 1: 93 \n",
    "Enter the score for test 2: 99 \n",
    "Enter the score for test 3: 96 \n",
    "The average score is 96.0\n",
    "Congratulations!\n",
    "That is a great average!\n",
    "'''\n",
    "\n",
    "'''Code here'''"
   ]
  },
  {
   "cell_type": "code",
   "execution_count": null,
   "metadata": {},
   "outputs": [],
   "source": [
    "'''\n",
    "Write an if-else statement that asks the user to enter the speed at which he is driving.\n",
    "If the speed is more than 50 print ‘Speed in limit’, else print ‘Speed should be\n",
    "checked’.\n",
    "'''\n",
    "\n",
    "'''code here'''"
   ]
  },
  {
   "cell_type": "code",
   "execution_count": null,
   "metadata": {},
   "outputs": [],
   "source": [
    "'''\n",
    "Write an if-else statement that determines whether the points variable is outside\n",
    "the range of 9 to 51. If the variable’s value is outside this range it should display\n",
    "“Invalid points.” Otherwise, it should display “Valid points.”\n",
    "'''\n",
    "\n",
    "'''code here'''"
   ]
  },
  {
   "cell_type": "code",
   "execution_count": null,
   "metadata": {},
   "outputs": [],
   "source": [
    "''' write a program to demostrate for loop'''\n",
    "'''code here'''"
   ]
  },
  {
   "cell_type": "code",
   "execution_count": null,
   "metadata": {},
   "outputs": [],
   "source": [
    "''' write a program to demostrate while loop'''\n",
    "'''code here'''"
   ]
  }
 ],
 "metadata": {
  "kernelspec": {
   "display_name": "Python 3",
   "language": "python",
   "name": "python3"
  },
  "language_info": {
   "codemirror_mode": {
    "name": "ipython",
    "version": 3
   },
   "file_extension": ".py",
   "mimetype": "text/x-python",
   "name": "python",
   "nbconvert_exporter": "python",
   "pygments_lexer": "ipython3",
   "version": "3.8.3"
  }
 },
 "nbformat": 4,
 "nbformat_minor": 4
}
